{
 "cells": [
  {
   "cell_type": "markdown",
   "source": [
    "# Time Spent on 2021 ML Zoomcamp\n",
    "\n",
    "How much time did students take on submitting assignments and going through course work?\n",
    "Walking through [Timur Kamaliev's](https://github.com/SVizor42) analysis of 2021 ml zoomcamp user data.\n",
    "[cite](https://github.com/SVizor42/ML_Zoomcamp/blob/master/ml-zoomcamp-stats/ml-zoomcamp-stats.ipynb)"
   ],
   "metadata": {
    "collapsed": false,
    "pycharm": {
     "name": "#%% md\n"
    }
   }
  },
  {
   "cell_type": "markdown",
   "source": [
    "## Table of Contents\n",
    "\n",
    "- Roles Data\n",
    "- Time Spent Data\n",
    "    - Assignments\n",
    "    - Completed Assignments\n",
    "    - Time Spent Preparation"
   ],
   "metadata": {
    "collapsed": false,
    "pycharm": {
     "name": "#%% md\n"
    }
   }
  },
  {
   "cell_type": "markdown",
   "source": [
    "## Roles Data"
   ],
   "metadata": {
    "collapsed": false,
    "pycharm": {
     "name": "#%% md\n"
    }
   }
  },
  {
   "cell_type": "code",
   "execution_count": 1,
   "outputs": [],
   "source": [
    "import pandas as pd\n",
    "\n",
    "import os"
   ],
   "metadata": {
    "collapsed": false,
    "pycharm": {
     "name": "#%%\n"
    }
   }
  },
  {
   "cell_type": "code",
   "execution_count": 2,
   "outputs": [],
   "source": [
    "DATA_DIR='../data'"
   ],
   "metadata": {
    "collapsed": false,
    "pycharm": {
     "name": "#%%\n"
    }
   }
  },
  {
   "cell_type": "code",
   "execution_count": 3,
   "outputs": [],
   "source": [
    "roles_raw_df = pd.read_csv(os.path.join(DATA_DIR, 'roles_2021.csv'))"
   ],
   "metadata": {
    "collapsed": false,
    "pycharm": {
     "name": "#%%\n"
    }
   }
  },
  {
   "cell_type": "code",
   "execution_count": 4,
   "outputs": [
    {
     "data": {
      "text/plain": "                                      email               role\n0  41451d46202653a266463966a11e1a240cc96182  Software Engineer\n1  c6f7360d04141e533e8edf47b73673c0cd4689cd       Data Analyst\n2  de6893cabfc89739a5e6172ea6d7c33f589cca98     Data Scientist\n3  5ca1abf9445332b1bd4aab9738da5d7cfa46c692  Software Engineer\n4  d36eb7deba1bc341ed7cd77158e6452ed6a19982    Student (STEM) ",
      "text/html": "<div>\n<style scoped>\n    .dataframe tbody tr th:only-of-type {\n        vertical-align: middle;\n    }\n\n    .dataframe tbody tr th {\n        vertical-align: top;\n    }\n\n    .dataframe thead th {\n        text-align: right;\n    }\n</style>\n<table border=\"1\" class=\"dataframe\">\n  <thead>\n    <tr style=\"text-align: right;\">\n      <th></th>\n      <th>email</th>\n      <th>role</th>\n    </tr>\n  </thead>\n  <tbody>\n    <tr>\n      <th>0</th>\n      <td>41451d46202653a266463966a11e1a240cc96182</td>\n      <td>Software Engineer</td>\n    </tr>\n    <tr>\n      <th>1</th>\n      <td>c6f7360d04141e533e8edf47b73673c0cd4689cd</td>\n      <td>Data Analyst</td>\n    </tr>\n    <tr>\n      <th>2</th>\n      <td>de6893cabfc89739a5e6172ea6d7c33f589cca98</td>\n      <td>Data Scientist</td>\n    </tr>\n    <tr>\n      <th>3</th>\n      <td>5ca1abf9445332b1bd4aab9738da5d7cfa46c692</td>\n      <td>Software Engineer</td>\n    </tr>\n    <tr>\n      <th>4</th>\n      <td>d36eb7deba1bc341ed7cd77158e6452ed6a19982</td>\n      <td>Student (STEM)</td>\n    </tr>\n  </tbody>\n</table>\n</div>"
     },
     "execution_count": 4,
     "metadata": {},
     "output_type": "execute_result"
    }
   ],
   "source": [
    "roles_raw_df.head()"
   ],
   "metadata": {
    "collapsed": false,
    "pycharm": {
     "name": "#%%\n"
    }
   }
  },
  {
   "cell_type": "code",
   "execution_count": 5,
   "outputs": [
    {
     "name": "stdout",
     "output_type": "stream",
     "text": [
      "<class 'pandas.core.frame.DataFrame'>\n",
      "RangeIndex: 416 entries, 0 to 415\n",
      "Data columns (total 2 columns):\n",
      " #   Column  Non-Null Count  Dtype \n",
      "---  ------  --------------  ----- \n",
      " 0   email   416 non-null    object\n",
      " 1   role    411 non-null    object\n",
      "dtypes: object(2)\n",
      "memory usage: 6.6+ KB\n"
     ]
    }
   ],
   "source": [
    "roles_raw_df.info()"
   ],
   "metadata": {
    "collapsed": false,
    "pycharm": {
     "name": "#%%\n"
    }
   }
  },
  {
   "cell_type": "markdown",
   "source": [
    "Observations:\n",
    "- At least five roles are null.\n",
    "\n",
    "Actions\n",
    "- Fill null roles with 'Other'\n",
    "- Plot Count of roles"
   ],
   "metadata": {
    "collapsed": false,
    "pycharm": {
     "name": "#%% md\n"
    }
   }
  },
  {
   "cell_type": "code",
   "execution_count": 6,
   "outputs": [],
   "source": [
    "roles_raw_df['role'].fillna('Other', inplace=True)"
   ],
   "metadata": {
    "collapsed": false,
    "pycharm": {
     "name": "#%%\n"
    }
   }
  },
  {
   "cell_type": "code",
   "execution_count": 7,
   "outputs": [
    {
     "data": {
      "text/plain": "                    count\nrole                     \nData Analyst           53\nData Engineer          16\nData Scientist         55\nML Engineer            14\nOther                  67\nSoftware Engineer      67\nStudent (STEM)        122\nStudent (not STEM)     22",
      "text/html": "<div>\n<style scoped>\n    .dataframe tbody tr th:only-of-type {\n        vertical-align: middle;\n    }\n\n    .dataframe tbody tr th {\n        vertical-align: top;\n    }\n\n    .dataframe thead th {\n        text-align: right;\n    }\n</style>\n<table border=\"1\" class=\"dataframe\">\n  <thead>\n    <tr style=\"text-align: right;\">\n      <th></th>\n      <th>count</th>\n    </tr>\n    <tr>\n      <th>role</th>\n      <th></th>\n    </tr>\n  </thead>\n  <tbody>\n    <tr>\n      <th>Data Analyst</th>\n      <td>53</td>\n    </tr>\n    <tr>\n      <th>Data Engineer</th>\n      <td>16</td>\n    </tr>\n    <tr>\n      <th>Data Scientist</th>\n      <td>55</td>\n    </tr>\n    <tr>\n      <th>ML Engineer</th>\n      <td>14</td>\n    </tr>\n    <tr>\n      <th>Other</th>\n      <td>67</td>\n    </tr>\n    <tr>\n      <th>Software Engineer</th>\n      <td>67</td>\n    </tr>\n    <tr>\n      <th>Student (STEM)</th>\n      <td>122</td>\n    </tr>\n    <tr>\n      <th>Student (not STEM)</th>\n      <td>22</td>\n    </tr>\n  </tbody>\n</table>\n</div>"
     },
     "execution_count": 7,
     "metadata": {},
     "output_type": "execute_result"
    }
   ],
   "source": [
    "roles_df = roles_raw_df.groupby('role').count().rename(columns={'email': 'count'})\n",
    "roles_df"
   ],
   "metadata": {
    "collapsed": false,
    "pycharm": {
     "name": "#%%\n"
    }
   }
  },
  {
   "cell_type": "code",
   "execution_count": 8,
   "outputs": [
    {
     "data": {
      "text/plain": "<AxesSubplot:ylabel='count'>"
     },
     "execution_count": 8,
     "metadata": {},
     "output_type": "execute_result"
    },
    {
     "data": {
      "text/plain": "<Figure size 640x480 with 1 Axes>",
      "image/png": "[encoded data removed]"
     },
     "metadata": {},
     "output_type": "display_data"
    }
   ],
   "source": [
    "roles_df.plot.pie(y='count', legend=False)"
   ],
   "metadata": {
    "collapsed": false,
    "pycharm": {
     "name": "#%%\n"
    }
   }
  },
  {
   "cell_type": "markdown",
   "source": [
    "Observations:\n",
    "- Students make up about 1/3 of those taking the course\n",
    "- Professionals about 1/2"
   ],
   "metadata": {
    "collapsed": false,
    "pycharm": {
     "name": "#%% md\n"
    }
   }
  },
  {
   "cell_type": "markdown",
   "source": [
    "## Time Spent Data"
   ],
   "metadata": {
    "collapsed": false,
    "pycharm": {
     "name": "#%% md\n"
    }
   }
  },
  {
   "cell_type": "markdown",
   "source": [
    "How much time did everyone take on the assignments?"
   ],
   "metadata": {
    "collapsed": false,
    "pycharm": {
     "name": "#%% md\n"
    }
   }
  },
  {
   "cell_type": "code",
   "execution_count": 9,
   "outputs": [],
   "source": [
    "time_spent_raw_df = pd.read_csv(os.path.join(DATA_DIR, 'time_spent_2021.csv'))"
   ],
   "metadata": {
    "collapsed": false,
    "pycharm": {
     "name": "#%%\n"
    }
   }
  },
  {
   "cell_type": "code",
   "execution_count": 10,
   "outputs": [
    {
     "data": {
      "text/plain": "                                      email  \\\n0  926b1fa33743bbdb5c73cf4622febdfdb6a11126   \n1  465b1103bcddd7eb0ea3b2240e31f3aa22a313ff   \n2  f653bb70051c62cab513ebb400171e7a0de6e1e5   \n3  510c636f6e171521b4221e3954299ae982311123   \n4  9e8bf7837142da13f8ae36c6330da328bc88373a   \n5  9a9e4dd7d40d14acb3e05f01258c88923d343479   \n6  5e7f189738624de0b7c96d6253a3c334195d9361   \n7  7145756e5c90c8f76bf5cc7657e803dbf2d5a85f   \n8  1c2602a03ff83b16478b9ae81789f539902601ad   \n9  c0ebe8c8c990a5f7945f2596d2e284d9e145af0b   \n\n                                       time_lectures time_homework        what  \n0                                                  3             1  homework-1  \n1                                                  1           0.5  homework-1  \n2                                                  2             1  homework-1  \n3                                                NaN             1  homework-1  \n4  <1 (playspeed: ~1.8 & skipped many familiar se...          <0.2  homework-1  \n5                            0.2 (skimmed the notes)           10m  homework-1  \n6                                         30 minutes     1.5 hours  homework-1  \n7                                                  1             1  homework-1  \n8                                                2.5           1.5  homework-1  \n9                                                ~1h           ~1h  homework-1  ",
      "text/html": "<div>\n<style scoped>\n    .dataframe tbody tr th:only-of-type {\n        vertical-align: middle;\n    }\n\n    .dataframe tbody tr th {\n        vertical-align: top;\n    }\n\n    .dataframe thead th {\n        text-align: right;\n    }\n</style>\n<table border=\"1\" class=\"dataframe\">\n  <thead>\n    <tr style=\"text-align: right;\">\n      <th></th>\n      <th>email</th>\n      <th>time_lectures</th>\n      <th>time_homework</th>\n      <th>what</th>\n    </tr>\n  </thead>\n  <tbody>\n    <tr>\n      <th>0</th>\n      <td>926b1fa33743bbdb5c73cf4622febdfdb6a11126</td>\n      <td>3</td>\n      <td>1</td>\n      <td>homework-1</td>\n    </tr>\n    <tr>\n      <th>1</th>\n      <td>465b1103bcddd7eb0ea3b2240e31f3aa22a313ff</td>\n      <td>1</td>\n      <td>0.5</td>\n      <td>homework-1</td>\n    </tr>\n    <tr>\n      <th>2</th>\n      <td>f653bb70051c62cab513ebb400171e7a0de6e1e5</td>\n      <td>2</td>\n      <td>1</td>\n      <td>homework-1</td>\n    </tr>\n    <tr>\n      <th>3</th>\n      <td>510c636f6e171521b4221e3954299ae982311123</td>\n      <td>NaN</td>\n      <td>1</td>\n      <td>homework-1</td>\n    </tr>\n    <tr>\n      <th>4</th>\n      <td>9e8bf7837142da13f8ae36c6330da328bc88373a</td>\n      <td>&lt;1 (playspeed: ~1.8 &amp; skipped many familiar se...</td>\n      <td>&lt;0.2</td>\n      <td>homework-1</td>\n    </tr>\n    <tr>\n      <th>5</th>\n      <td>9a9e4dd7d40d14acb3e05f01258c88923d343479</td>\n      <td>0.2 (skimmed the notes)</td>\n      <td>10m</td>\n      <td>homework-1</td>\n    </tr>\n    <tr>\n      <th>6</th>\n      <td>5e7f189738624de0b7c96d6253a3c334195d9361</td>\n      <td>30 minutes</td>\n      <td>1.5 hours</td>\n      <td>homework-1</td>\n    </tr>\n    <tr>\n      <th>7</th>\n      <td>7145756e5c90c8f76bf5cc7657e803dbf2d5a85f</td>\n      <td>1</td>\n      <td>1</td>\n      <td>homework-1</td>\n    </tr>\n    <tr>\n      <th>8</th>\n      <td>1c2602a03ff83b16478b9ae81789f539902601ad</td>\n      <td>2.5</td>\n      <td>1.5</td>\n      <td>homework-1</td>\n    </tr>\n    <tr>\n      <th>9</th>\n      <td>c0ebe8c8c990a5f7945f2596d2e284d9e145af0b</td>\n      <td>~1h</td>\n      <td>~1h</td>\n      <td>homework-1</td>\n    </tr>\n  </tbody>\n</table>\n</div>"
     },
     "execution_count": 10,
     "metadata": {},
     "output_type": "execute_result"
    }
   ],
   "source": [
    "time_spent_raw_df.head(10)"
   ],
   "metadata": {
    "collapsed": false,
    "pycharm": {
     "name": "#%%\n"
    }
   }
  },
  {
   "cell_type": "code",
   "execution_count": 11,
   "outputs": [
    {
     "name": "stdout",
     "output_type": "stream",
     "text": [
      "<class 'pandas.core.frame.DataFrame'>\n",
      "RangeIndex: 1899 entries, 0 to 1898\n",
      "Data columns (total 4 columns):\n",
      " #   Column         Non-Null Count  Dtype \n",
      "---  ------         --------------  ----- \n",
      " 0   email          1899 non-null   object\n",
      " 1   time_lectures  1305 non-null   object\n",
      " 2   time_homework  1620 non-null   object\n",
      " 3   what           1899 non-null   object\n",
      "dtypes: object(4)\n",
      "memory usage: 59.5+ KB\n"
     ]
    }
   ],
   "source": [
    "time_spent_raw_df.info()"
   ],
   "metadata": {
    "collapsed": false,
    "pycharm": {
     "name": "#%%\n"
    }
   }
  },
  {
   "cell_type": "markdown",
   "source": [
    "Lots of null information."
   ],
   "metadata": {
    "collapsed": false,
    "pycharm": {
     "name": "#%% md\n"
    }
   }
  },
  {
   "cell_type": "code",
   "execution_count": 12,
   "outputs": [
    {
     "data": {
      "text/plain": "                                           email time_lectures time_homework  \\\ncount                                       1899          1305          1620   \nunique                                       443           188           232   \ntop     7ad144b35823cd48681c309a840902a77de85ec3             3             2   \nfreq                                          13           212           256   \n\n              what  \ncount         1899  \nunique          13  \ntop     homework-1  \nfreq           393  ",
      "text/html": "<div>\n<style scoped>\n    .dataframe tbody tr th:only-of-type {\n        vertical-align: middle;\n    }\n\n    .dataframe tbody tr th {\n        vertical-align: top;\n    }\n\n    .dataframe thead th {\n        text-align: right;\n    }\n</style>\n<table border=\"1\" class=\"dataframe\">\n  <thead>\n    <tr style=\"text-align: right;\">\n      <th></th>\n      <th>email</th>\n      <th>time_lectures</th>\n      <th>time_homework</th>\n      <th>what</th>\n    </tr>\n  </thead>\n  <tbody>\n    <tr>\n      <th>count</th>\n      <td>1899</td>\n      <td>1305</td>\n      <td>1620</td>\n      <td>1899</td>\n    </tr>\n    <tr>\n      <th>unique</th>\n      <td>443</td>\n      <td>188</td>\n      <td>232</td>\n      <td>13</td>\n    </tr>\n    <tr>\n      <th>top</th>\n      <td>7ad144b35823cd48681c309a840902a77de85ec3</td>\n      <td>3</td>\n      <td>2</td>\n      <td>homework-1</td>\n    </tr>\n    <tr>\n      <th>freq</th>\n      <td>13</td>\n      <td>212</td>\n      <td>256</td>\n      <td>393</td>\n    </tr>\n  </tbody>\n</table>\n</div>"
     },
     "execution_count": 12,
     "metadata": {},
     "output_type": "execute_result"
    }
   ],
   "source": [
    "time_spent_raw_df.describe()"
   ],
   "metadata": {
    "collapsed": false,
    "pycharm": {
     "name": "#%%\n"
    }
   }
  },
  {
   "cell_type": "code",
   "execution_count": 13,
   "outputs": [
    {
     "data": {
      "text/plain": "email              0\ntime_lectures    594\ntime_homework    279\nwhat               0\ndtype: int64"
     },
     "execution_count": 13,
     "metadata": {},
     "output_type": "execute_result"
    }
   ],
   "source": [
    "time_spent_raw_df.isna().sum()"
   ],
   "metadata": {
    "collapsed": false,
    "pycharm": {
     "name": "#%%\n"
    }
   }
  },
  {
   "cell_type": "markdown",
   "source": [
    "Observations:\n",
    "- More unique emails in homework than in roles (443 vs 416)\n",
    "- time_lectures and time_homework\n",
    "    - unvalidated inputs\n",
    "    - significant amount of nulls\n",
    "- 393 submissions for homework-1\n",
    "\n",
    "Questions\n",
    "- How many students completed each assignment('what')?\n",
    "\n",
    "Actions\n",
    "- Count submissions per assignment\n",
    "- Plot number of submissions per assignment\n",
    "-"
   ],
   "metadata": {
    "collapsed": false,
    "pycharm": {
     "name": "#%% md\n"
    }
   }
  },
  {
   "cell_type": "markdown",
   "source": [
    "### Assignments\n",
    "\n",
    "How many students completed each assignment(‘what’)?"
   ],
   "metadata": {
    "collapsed": false,
    "pycharm": {
     "name": "#%% md\n"
    }
   }
  },
  {
   "cell_type": "code",
   "execution_count": 14,
   "outputs": [
    {
     "data": {
      "text/plain": "              assignment  submissions\n0             homework-1          393\n1             homework-2          243\n2             homework-3          203\n3             homework-4          173\n4             homework-6          151\n5             homework-5          145\n6                midterm          123\n7     midterm-evaluation          106\n8             homework-8           90\n9             homework-9           81\n10              capstone           71\n11  capstone-evaluations           67\n12           homework-10           53",
      "text/html": "<div>\n<style scoped>\n    .dataframe tbody tr th:only-of-type {\n        vertical-align: middle;\n    }\n\n    .dataframe tbody tr th {\n        vertical-align: top;\n    }\n\n    .dataframe thead th {\n        text-align: right;\n    }\n</style>\n<table border=\"1\" class=\"dataframe\">\n  <thead>\n    <tr style=\"text-align: right;\">\n      <th></th>\n      <th>assignment</th>\n      <th>submissions</th>\n    </tr>\n  </thead>\n  <tbody>\n    <tr>\n      <th>0</th>\n      <td>homework-1</td>\n      <td>393</td>\n    </tr>\n    <tr>\n      <th>1</th>\n      <td>homework-2</td>\n      <td>243</td>\n    </tr>\n    <tr>\n      <th>2</th>\n      <td>homework-3</td>\n      <td>203</td>\n    </tr>\n    <tr>\n      <th>3</th>\n      <td>homework-4</td>\n      <td>173</td>\n    </tr>\n    <tr>\n      <th>4</th>\n      <td>homework-6</td>\n      <td>151</td>\n    </tr>\n    <tr>\n      <th>5</th>\n      <td>homework-5</td>\n      <td>145</td>\n    </tr>\n    <tr>\n      <th>6</th>\n      <td>midterm</td>\n      <td>123</td>\n    </tr>\n    <tr>\n      <th>7</th>\n      <td>midterm-evaluation</td>\n      <td>106</td>\n    </tr>\n    <tr>\n      <th>8</th>\n      <td>homework-8</td>\n      <td>90</td>\n    </tr>\n    <tr>\n      <th>9</th>\n      <td>homework-9</td>\n      <td>81</td>\n    </tr>\n    <tr>\n      <th>10</th>\n      <td>capstone</td>\n      <td>71</td>\n    </tr>\n    <tr>\n      <th>11</th>\n      <td>capstone-evaluations</td>\n      <td>67</td>\n    </tr>\n    <tr>\n      <th>12</th>\n      <td>homework-10</td>\n      <td>53</td>\n    </tr>\n  </tbody>\n</table>\n</div>"
     },
     "execution_count": 14,
     "metadata": {},
     "output_type": "execute_result"
    }
   ],
   "source": [
    "submissions_df = time_spent_raw_df['what'].value_counts().reset_index()\\\n",
    "    .rename(columns={'index':'assignment', 'what':'submissions'})\n",
    "submissions_df"
   ],
   "metadata": {
    "collapsed": false,
    "pycharm": {
     "name": "#%%\n"
    }
   }
  },
  {
   "cell_type": "code",
   "execution_count": 15,
   "outputs": [
    {
     "data": {
      "text/plain": "<AxesSubplot:xlabel='assignment'>"
     },
     "execution_count": 15,
     "metadata": {},
     "output_type": "execute_result"
    },
    {
     "data": {
      "text/plain": "<Figure size 640x480 with 1 Axes>",
      "image/png": "[encoded data removed]"
     },
     "metadata": {},
     "output_type": "display_data"
    }
   ],
   "source": [
    "submissions_df.plot.bar(x='assignment', y='submissions')"
   ],
   "metadata": {
    "collapsed": false,
    "pycharm": {
     "name": "#%%\n"
    }
   }
  },
  {
   "cell_type": "markdown",
   "source": [
    "Observations:\n",
    "- Number of submissions generally decreased with each assignment\n",
    "    - Assignment 6 had a slight increase from 5"
   ],
   "metadata": {
    "collapsed": false,
    "pycharm": {
     "name": "#%% md\n"
    }
   }
  },
  {
   "cell_type": "markdown",
   "source": [
    "### Completed Assignments\n",
    "\n",
    "Can we plot the distribution of users according to the number of completed assignments?"
   ],
   "metadata": {
    "collapsed": false,
    "pycharm": {
     "name": "#%% md\n"
    }
   }
  },
  {
   "cell_type": "code",
   "execution_count": 16,
   "outputs": [
    {
     "data": {
      "text/plain": "    num_of_submissions  num_of_users\n0                    1           172\n1                    2            62\n2                    3            30\n3                    4            16\n4                    5            24\n5                    6            39\n6                    7             5\n7                    8            15\n8                    9             8\n9                   10             8\n10                  11            14\n11                  12            16\n12                  13            34",
      "text/html": "<div>\n<style scoped>\n    .dataframe tbody tr th:only-of-type {\n        vertical-align: middle;\n    }\n\n    .dataframe tbody tr th {\n        vertical-align: top;\n    }\n\n    .dataframe thead th {\n        text-align: right;\n    }\n</style>\n<table border=\"1\" class=\"dataframe\">\n  <thead>\n    <tr style=\"text-align: right;\">\n      <th></th>\n      <th>num_of_submissions</th>\n      <th>num_of_users</th>\n    </tr>\n  </thead>\n  <tbody>\n    <tr>\n      <th>0</th>\n      <td>1</td>\n      <td>172</td>\n    </tr>\n    <tr>\n      <th>1</th>\n      <td>2</td>\n      <td>62</td>\n    </tr>\n    <tr>\n      <th>2</th>\n      <td>3</td>\n      <td>30</td>\n    </tr>\n    <tr>\n      <th>3</th>\n      <td>4</td>\n      <td>16</td>\n    </tr>\n    <tr>\n      <th>4</th>\n      <td>5</td>\n      <td>24</td>\n    </tr>\n    <tr>\n      <th>5</th>\n      <td>6</td>\n      <td>39</td>\n    </tr>\n    <tr>\n      <th>6</th>\n      <td>7</td>\n      <td>5</td>\n    </tr>\n    <tr>\n      <th>7</th>\n      <td>8</td>\n      <td>15</td>\n    </tr>\n    <tr>\n      <th>8</th>\n      <td>9</td>\n      <td>8</td>\n    </tr>\n    <tr>\n      <th>9</th>\n      <td>10</td>\n      <td>8</td>\n    </tr>\n    <tr>\n      <th>10</th>\n      <td>11</td>\n      <td>14</td>\n    </tr>\n    <tr>\n      <th>11</th>\n      <td>12</td>\n      <td>16</td>\n    </tr>\n    <tr>\n      <th>12</th>\n      <td>13</td>\n      <td>34</td>\n    </tr>\n  </tbody>\n</table>\n</div>"
     },
     "execution_count": 16,
     "metadata": {},
     "output_type": "execute_result"
    }
   ],
   "source": [
    "users_submissions_df = time_spent_raw_df.groupby('email').count()['what'].value_counts()\\\n",
    "    .reset_index().sort_values(by='index')\\\n",
    "    .rename(columns={'index':'num_of_submissions', 'what':'num_of_users'})\\\n",
    "    .reset_index(drop=True)\n",
    "users_submissions_df"
   ],
   "metadata": {
    "collapsed": false,
    "pycharm": {
     "name": "#%%\n"
    }
   }
  },
  {
   "cell_type": "code",
   "execution_count": 17,
   "outputs": [
    {
     "data": {
      "text/plain": "0     443\n1     271\n2     209\n3     179\n4     163\n5     139\n6     100\n7      95\n8      80\n9      72\n10     64\n11     50\n12     34\nName: num_of_users, dtype: int64"
     },
     "execution_count": 17,
     "metadata": {},
     "output_type": "execute_result"
    }
   ],
   "source": [
    "cumulative_sum = users_submissions_df.loc[::-1, 'num_of_users'].cumsum()[::-1]\n",
    "cumulative_sum"
   ],
   "metadata": {
    "collapsed": false,
    "pycharm": {
     "name": "#%%\n"
    }
   }
  },
  {
   "cell_type": "code",
   "execution_count": 18,
   "outputs": [
    {
     "data": {
      "text/plain": "    num_of_submissions  num_of_users  at_least_num_of_users\n0                    1           172                    443\n1                    2            62                    271\n2                    3            30                    209\n3                    4            16                    179\n4                    5            24                    163\n5                    6            39                    139\n6                    7             5                    100\n7                    8            15                     95\n8                    9             8                     80\n9                   10             8                     72\n10                  11            14                     64\n11                  12            16                     50\n12                  13            34                     34",
      "text/html": "<div>\n<style scoped>\n    .dataframe tbody tr th:only-of-type {\n        vertical-align: middle;\n    }\n\n    .dataframe tbody tr th {\n        vertical-align: top;\n    }\n\n    .dataframe thead th {\n        text-align: right;\n    }\n</style>\n<table border=\"1\" class=\"dataframe\">\n  <thead>\n    <tr style=\"text-align: right;\">\n      <th></th>\n      <th>num_of_submissions</th>\n      <th>num_of_users</th>\n      <th>at_least_num_of_users</th>\n    </tr>\n  </thead>\n  <tbody>\n    <tr>\n      <th>0</th>\n      <td>1</td>\n      <td>172</td>\n      <td>443</td>\n    </tr>\n    <tr>\n      <th>1</th>\n      <td>2</td>\n      <td>62</td>\n      <td>271</td>\n    </tr>\n    <tr>\n      <th>2</th>\n      <td>3</td>\n      <td>30</td>\n      <td>209</td>\n    </tr>\n    <tr>\n      <th>3</th>\n      <td>4</td>\n      <td>16</td>\n      <td>179</td>\n    </tr>\n    <tr>\n      <th>4</th>\n      <td>5</td>\n      <td>24</td>\n      <td>163</td>\n    </tr>\n    <tr>\n      <th>5</th>\n      <td>6</td>\n      <td>39</td>\n      <td>139</td>\n    </tr>\n    <tr>\n      <th>6</th>\n      <td>7</td>\n      <td>5</td>\n      <td>100</td>\n    </tr>\n    <tr>\n      <th>7</th>\n      <td>8</td>\n      <td>15</td>\n      <td>95</td>\n    </tr>\n    <tr>\n      <th>8</th>\n      <td>9</td>\n      <td>8</td>\n      <td>80</td>\n    </tr>\n    <tr>\n      <th>9</th>\n      <td>10</td>\n      <td>8</td>\n      <td>72</td>\n    </tr>\n    <tr>\n      <th>10</th>\n      <td>11</td>\n      <td>14</td>\n      <td>64</td>\n    </tr>\n    <tr>\n      <th>11</th>\n      <td>12</td>\n      <td>16</td>\n      <td>50</td>\n    </tr>\n    <tr>\n      <th>12</th>\n      <td>13</td>\n      <td>34</td>\n      <td>34</td>\n    </tr>\n  </tbody>\n</table>\n</div>"
     },
     "execution_count": 18,
     "metadata": {},
     "output_type": "execute_result"
    }
   ],
   "source": [
    "users_submissions_df['at_least_num_of_users'] = cumulative_sum\n",
    "users_submissions_df"
   ],
   "metadata": {
    "collapsed": false,
    "pycharm": {
     "name": "#%%\n"
    }
   }
  },
  {
   "cell_type": "code",
   "execution_count": 19,
   "outputs": [
    {
     "data": {
      "text/plain": "<AxesSubplot:xlabel='num_of_submissions'>"
     },
     "execution_count": 19,
     "metadata": {},
     "output_type": "execute_result"
    },
    {
     "data": {
      "text/plain": "<Figure size 640x480 with 1 Axes>",
      "image/png": "[encoded data removed]"
     },
     "metadata": {},
     "output_type": "display_data"
    }
   ],
   "source": [
    "users_submissions_df.plot.bar(x='num_of_submissions', y=['num_of_users', 'at_least_num_of_users'])"
   ],
   "metadata": {
    "collapsed": false,
    "pycharm": {
     "name": "#%%\n"
    }
   }
  },
  {
   "cell_type": "markdown",
   "source": [
    "Observations:\n",
    "- 443 completed at least one assignment\n",
    "- 34 completed all assignments\n",
    "- Assignments 4, 7, 9, and 10 seem to have the least drop off"
   ],
   "metadata": {
    "collapsed": false,
    "pycharm": {
     "name": "#%% md\n"
    }
   }
  },
  {
   "cell_type": "markdown",
   "source": [
    "### Time Spent Preparation\n",
    "\n",
    "Start working on aggregating the time spent on lectures, homeworks, and projects.\n",
    "\n",
    "Create DataFrames for lectures, homeworks, and projects"
   ],
   "metadata": {
    "collapsed": false,
    "pycharm": {
     "name": "#%% md\n"
    }
   }
  },
  {
   "cell_type": "code",
   "execution_count": 20,
   "outputs": [
    {
     "data": {
      "text/plain": "                                         email time_lectures time_homework  \\\n1532  54e6b0a0b8febbb8310f4708f267139b08ff704f           NaN             8   \n1533  b919f652a3c883c772ff7beadc76dc7fdbabebc2           NaN            12   \n1534  1814c43391dd1efa3ebbd4a6edf694ff05f95946           NaN            12   \n1535  510c636f6e171521b4221e3954299ae982311123           NaN         15-20   \n1536  eeae56daf55b767d4a01ff5b82e812c0e91a8fe0           NaN            50   \n\n         what  \n1532  midterm  \n1533  midterm  \n1534  midterm  \n1535  midterm  \n1536  midterm  ",
      "text/html": "<div>\n<style scoped>\n    .dataframe tbody tr th:only-of-type {\n        vertical-align: middle;\n    }\n\n    .dataframe tbody tr th {\n        vertical-align: top;\n    }\n\n    .dataframe thead th {\n        text-align: right;\n    }\n</style>\n<table border=\"1\" class=\"dataframe\">\n  <thead>\n    <tr style=\"text-align: right;\">\n      <th></th>\n      <th>email</th>\n      <th>time_lectures</th>\n      <th>time_homework</th>\n      <th>what</th>\n    </tr>\n  </thead>\n  <tbody>\n    <tr>\n      <th>1532</th>\n      <td>54e6b0a0b8febbb8310f4708f267139b08ff704f</td>\n      <td>NaN</td>\n      <td>8</td>\n      <td>midterm</td>\n    </tr>\n    <tr>\n      <th>1533</th>\n      <td>b919f652a3c883c772ff7beadc76dc7fdbabebc2</td>\n      <td>NaN</td>\n      <td>12</td>\n      <td>midterm</td>\n    </tr>\n    <tr>\n      <th>1534</th>\n      <td>1814c43391dd1efa3ebbd4a6edf694ff05f95946</td>\n      <td>NaN</td>\n      <td>12</td>\n      <td>midterm</td>\n    </tr>\n    <tr>\n      <th>1535</th>\n      <td>510c636f6e171521b4221e3954299ae982311123</td>\n      <td>NaN</td>\n      <td>15-20</td>\n      <td>midterm</td>\n    </tr>\n    <tr>\n      <th>1536</th>\n      <td>eeae56daf55b767d4a01ff5b82e812c0e91a8fe0</td>\n      <td>NaN</td>\n      <td>50</td>\n      <td>midterm</td>\n    </tr>\n  </tbody>\n</table>\n</div>"
     },
     "execution_count": 20,
     "metadata": {},
     "output_type": "execute_result"
    }
   ],
   "source": [
    "projects_df = time_spent_raw_df[time_spent_raw_df.what.str.contains('midterm|capstone')]\n",
    "projects_df.head()"
   ],
   "metadata": {
    "collapsed": false,
    "pycharm": {
     "name": "#%%\n"
    }
   }
  },
  {
   "cell_type": "code",
   "execution_count": 21,
   "outputs": [
    {
     "name": "stdout",
     "output_type": "stream",
     "text": [
      "<class 'pandas.core.frame.DataFrame'>\n",
      "Int64Index: 367 entries, 1532 to 1898\n",
      "Data columns (total 4 columns):\n",
      " #   Column         Non-Null Count  Dtype \n",
      "---  ------         --------------  ----- \n",
      " 0   email          367 non-null    object\n",
      " 1   time_lectures  0 non-null      object\n",
      " 2   time_homework  305 non-null    object\n",
      " 3   what           367 non-null    object\n",
      "dtypes: object(4)\n",
      "memory usage: 14.3+ KB\n"
     ]
    }
   ],
   "source": [
    "projects_df.info()"
   ],
   "metadata": {
    "collapsed": false,
    "pycharm": {
     "name": "#%%\n"
    }
   }
  },
  {
   "cell_type": "markdown",
   "source": [
    "Lectures don't make sense for these so we can drop it. They are all null anyway."
   ],
   "metadata": {
    "collapsed": false,
    "pycharm": {
     "name": "#%% md\n"
    }
   }
  },
  {
   "cell_type": "code",
   "execution_count": 22,
   "outputs": [],
   "source": [
    "projects_df = projects_df.drop(columns={'time_lectures'})"
   ],
   "metadata": {
    "collapsed": false,
    "pycharm": {
     "name": "#%%\n"
    }
   }
  },
  {
   "cell_type": "code",
   "execution_count": 23,
   "outputs": [
    {
     "name": "stdout",
     "output_type": "stream",
     "text": [
      "<class 'pandas.core.frame.DataFrame'>\n",
      "Int64Index: 367 entries, 1532 to 1898\n",
      "Data columns (total 3 columns):\n",
      " #   Column         Non-Null Count  Dtype \n",
      "---  ------         --------------  ----- \n",
      " 0   email          367 non-null    object\n",
      " 1   time_homework  305 non-null    object\n",
      " 2   what           367 non-null    object\n",
      "dtypes: object(3)\n",
      "memory usage: 11.5+ KB\n"
     ]
    }
   ],
   "source": [
    "projects_df.info()"
   ],
   "metadata": {
    "collapsed": false,
    "pycharm": {
     "name": "#%%\n"
    }
   }
  },
  {
   "cell_type": "code",
   "execution_count": 24,
   "outputs": [],
   "source": [
    "hwk_lct_df = time_spent_raw_df.drop(projects_df.index)"
   ],
   "metadata": {
    "collapsed": false,
    "pycharm": {
     "name": "#%%\n"
    }
   }
  },
  {
   "cell_type": "code",
   "execution_count": 25,
   "outputs": [
    {
     "data": {
      "text/plain": "                                         email time_lectures time_homework  \\\n899   67599cccc09d502e2a8bcdbdc5e48ec24516cd43             2             2   \n1464  866873bee2e459b549eedd1ec6b902b2483d6066           NaN           NaN   \n120   7dbf70a48f982d01074b5587f5e1a5f402797b15           NaN           NaN   \n1410  ad078a77fe56e09957b51a828142d4719b292d67       3 hours       3 hours   \n1517  582796c4a2f39c5bf8a45b2b491de255a94f184c           NaN           NaN   \n384   8db28b8a349d586732e9b93d554c649b21171f2d             2             1   \n333   e3205b81d27360e8f8f5e36a0e3bd0830aaba93e             8             3   \n900   4fbf26f1e8ac39d6bce028e30da782a5a10d40dd             2             3   \n239   8585c740b5b881aba4e37683b60388f13a6d4f6d             2             1   \n231   ce839bcc2c11ccee5ec9226defa6474eacfc8615             3             1   \n\n            what  \n899   homework-4  \n1464  homework-9  \n120   homework-1  \n1410  homework-8  \n1517  homework-9  \n384   homework-1  \n333   homework-1  \n900   homework-4  \n239   homework-1  \n231   homework-1  ",
      "text/html": "<div>\n<style scoped>\n    .dataframe tbody tr th:only-of-type {\n        vertical-align: middle;\n    }\n\n    .dataframe tbody tr th {\n        vertical-align: top;\n    }\n\n    .dataframe thead th {\n        text-align: right;\n    }\n</style>\n<table border=\"1\" class=\"dataframe\">\n  <thead>\n    <tr style=\"text-align: right;\">\n      <th></th>\n      <th>email</th>\n      <th>time_lectures</th>\n      <th>time_homework</th>\n      <th>what</th>\n    </tr>\n  </thead>\n  <tbody>\n    <tr>\n      <th>899</th>\n      <td>67599cccc09d502e2a8bcdbdc5e48ec24516cd43</td>\n      <td>2</td>\n      <td>2</td>\n      <td>homework-4</td>\n    </tr>\n    <tr>\n      <th>1464</th>\n      <td>866873bee2e459b549eedd1ec6b902b2483d6066</td>\n      <td>NaN</td>\n      <td>NaN</td>\n      <td>homework-9</td>\n    </tr>\n    <tr>\n      <th>120</th>\n      <td>7dbf70a48f982d01074b5587f5e1a5f402797b15</td>\n      <td>NaN</td>\n      <td>NaN</td>\n      <td>homework-1</td>\n    </tr>\n    <tr>\n      <th>1410</th>\n      <td>ad078a77fe56e09957b51a828142d4719b292d67</td>\n      <td>3 hours</td>\n      <td>3 hours</td>\n      <td>homework-8</td>\n    </tr>\n    <tr>\n      <th>1517</th>\n      <td>582796c4a2f39c5bf8a45b2b491de255a94f184c</td>\n      <td>NaN</td>\n      <td>NaN</td>\n      <td>homework-9</td>\n    </tr>\n    <tr>\n      <th>384</th>\n      <td>8db28b8a349d586732e9b93d554c649b21171f2d</td>\n      <td>2</td>\n      <td>1</td>\n      <td>homework-1</td>\n    </tr>\n    <tr>\n      <th>333</th>\n      <td>e3205b81d27360e8f8f5e36a0e3bd0830aaba93e</td>\n      <td>8</td>\n      <td>3</td>\n      <td>homework-1</td>\n    </tr>\n    <tr>\n      <th>900</th>\n      <td>4fbf26f1e8ac39d6bce028e30da782a5a10d40dd</td>\n      <td>2</td>\n      <td>3</td>\n      <td>homework-4</td>\n    </tr>\n    <tr>\n      <th>239</th>\n      <td>8585c740b5b881aba4e37683b60388f13a6d4f6d</td>\n      <td>2</td>\n      <td>1</td>\n      <td>homework-1</td>\n    </tr>\n    <tr>\n      <th>231</th>\n      <td>ce839bcc2c11ccee5ec9226defa6474eacfc8615</td>\n      <td>3</td>\n      <td>1</td>\n      <td>homework-1</td>\n    </tr>\n  </tbody>\n</table>\n</div>"
     },
     "execution_count": 25,
     "metadata": {},
     "output_type": "execute_result"
    }
   ],
   "source": [
    "hwk_lct_df.sample(10)"
   ],
   "metadata": {
    "collapsed": false,
    "pycharm": {
     "name": "#%%\n"
    }
   }
  },
  {
   "cell_type": "code",
   "execution_count": 26,
   "outputs": [
    {
     "name": "stdout",
     "output_type": "stream",
     "text": [
      "<class 'pandas.core.frame.DataFrame'>\n",
      "RangeIndex: 1532 entries, 0 to 1531\n",
      "Data columns (total 4 columns):\n",
      " #   Column         Non-Null Count  Dtype \n",
      "---  ------         --------------  ----- \n",
      " 0   email          1532 non-null   object\n",
      " 1   time_lectures  1305 non-null   object\n",
      " 2   time_homework  1315 non-null   object\n",
      " 3   what           1532 non-null   object\n",
      "dtypes: object(4)\n",
      "memory usage: 48.0+ KB\n"
     ]
    }
   ],
   "source": [
    "hwk_lct_df.info()"
   ],
   "metadata": {
    "collapsed": false,
    "pycharm": {
     "name": "#%%\n"
    }
   }
  },
  {
   "cell_type": "code",
   "execution_count": 27,
   "outputs": [
    {
     "data": {
      "text/plain": "(1532, 4)"
     },
     "execution_count": 27,
     "metadata": {},
     "output_type": "execute_result"
    }
   ],
   "source": [
    "hwk_lct_df.shape"
   ],
   "metadata": {
    "collapsed": false,
    "pycharm": {
     "name": "#%%\n"
    }
   }
  },
  {
   "cell_type": "markdown",
   "source": [
    "### Lectures"
   ],
   "metadata": {
    "collapsed": false,
    "pycharm": {
     "name": "#%% md\n"
    }
   }
  },
  {
   "cell_type": "code",
   "execution_count": 28,
   "outputs": [],
   "source": [
    "lecture_count_df = hwk_lct_df['time_lectures'].value_counts().reset_index()\\\n",
    "    .rename(columns={'index':'time_spent', 'time_lectures':'count'})"
   ],
   "metadata": {
    "collapsed": false,
    "pycharm": {
     "name": "#%%\n"
    }
   }
  },
  {
   "cell_type": "code",
   "execution_count": 29,
   "outputs": [
    {
     "data": {
      "text/plain": "(188, 2)"
     },
     "execution_count": 29,
     "metadata": {},
     "output_type": "execute_result"
    }
   ],
   "source": [
    "lecture_count_df.shape"
   ],
   "metadata": {
    "collapsed": false,
    "pycharm": {
     "name": "#%%\n"
    }
   }
  },
  {
   "cell_type": "code",
   "execution_count": 30,
   "outputs": [
    {
     "data": {
      "text/plain": "   time_spent  count\n0           3    212\n1           2    171\n2           4    154\n3           5    126\n4           6     86\n5           1     65\n6           8     64\n7          10     41\n8           7     22\n9     2 hours     21\n10    3 hours     18\n11         12     16\n12        2.5     12\n13    5 hours     11\n14    4 hours     10\n15        3.5     10\n16          0     10\n17         15     10\n18        1.5      9\n19         20      7",
      "text/html": "<div>\n<style scoped>\n    .dataframe tbody tr th:only-of-type {\n        vertical-align: middle;\n    }\n\n    .dataframe tbody tr th {\n        vertical-align: top;\n    }\n\n    .dataframe thead th {\n        text-align: right;\n    }\n</style>\n<table border=\"1\" class=\"dataframe\">\n  <thead>\n    <tr style=\"text-align: right;\">\n      <th></th>\n      <th>time_spent</th>\n      <th>count</th>\n    </tr>\n  </thead>\n  <tbody>\n    <tr>\n      <th>0</th>\n      <td>3</td>\n      <td>212</td>\n    </tr>\n    <tr>\n      <th>1</th>\n      <td>2</td>\n      <td>171</td>\n    </tr>\n    <tr>\n      <th>2</th>\n      <td>4</td>\n      <td>154</td>\n    </tr>\n    <tr>\n      <th>3</th>\n      <td>5</td>\n      <td>126</td>\n    </tr>\n    <tr>\n      <th>4</th>\n      <td>6</td>\n      <td>86</td>\n    </tr>\n    <tr>\n      <th>5</th>\n      <td>1</td>\n      <td>65</td>\n    </tr>\n    <tr>\n      <th>6</th>\n      <td>8</td>\n      <td>64</td>\n    </tr>\n    <tr>\n      <th>7</th>\n      <td>10</td>\n      <td>41</td>\n    </tr>\n    <tr>\n      <th>8</th>\n      <td>7</td>\n      <td>22</td>\n    </tr>\n    <tr>\n      <th>9</th>\n      <td>2 hours</td>\n      <td>21</td>\n    </tr>\n    <tr>\n      <th>10</th>\n      <td>3 hours</td>\n      <td>18</td>\n    </tr>\n    <tr>\n      <th>11</th>\n      <td>12</td>\n      <td>16</td>\n    </tr>\n    <tr>\n      <th>12</th>\n      <td>2.5</td>\n      <td>12</td>\n    </tr>\n    <tr>\n      <th>13</th>\n      <td>5 hours</td>\n      <td>11</td>\n    </tr>\n    <tr>\n      <th>14</th>\n      <td>4 hours</td>\n      <td>10</td>\n    </tr>\n    <tr>\n      <th>15</th>\n      <td>3.5</td>\n      <td>10</td>\n    </tr>\n    <tr>\n      <th>16</th>\n      <td>0</td>\n      <td>10</td>\n    </tr>\n    <tr>\n      <th>17</th>\n      <td>15</td>\n      <td>10</td>\n    </tr>\n    <tr>\n      <th>18</th>\n      <td>1.5</td>\n      <td>9</td>\n    </tr>\n    <tr>\n      <th>19</th>\n      <td>20</td>\n      <td>7</td>\n    </tr>\n  </tbody>\n</table>\n</div>"
     },
     "execution_count": 30,
     "metadata": {},
     "output_type": "execute_result"
    }
   ],
   "source": [
    "lecture_count_df.head(20)"
   ],
   "metadata": {
    "collapsed": false,
    "pycharm": {
     "name": "#%%\n"
    }
   }
  },
  {
   "cell_type": "code",
   "execution_count": 31,
   "outputs": [
    {
     "data": {
      "text/plain": "                                            time_spent  count\n168                                      About 3 hours      1\n169                                    roughly 4 hours      1\n170                                                 16      1\n171                 2-3 days (See on comments section)      1\n172                                     about 1h a day      1\n173  not really had much time last week, just check...      1\n174  Came into this very late, so not minutes of pe...      1\n175  Still need to watch and read! catching up this...      1\n176                                               4.33      1\n177                                              10hrs      1\n178  0 (I've planned to do it today, but I've seen ...      1\n179                       ~10hours (breaks in between)      1\n180  1 an half hours since I did'nt know that other...      1\n181                                 two hours per day       1\n182                              Approximately 5 hours      1\n183                                  Approx. 3,5 hours      1\n184                                                6-8      1\n185                                             3 hour      1\n186                                                220      1\n187                                            4-5 hrs      1",
      "text/html": "<div>\n<style scoped>\n    .dataframe tbody tr th:only-of-type {\n        vertical-align: middle;\n    }\n\n    .dataframe tbody tr th {\n        vertical-align: top;\n    }\n\n    .dataframe thead th {\n        text-align: right;\n    }\n</style>\n<table border=\"1\" class=\"dataframe\">\n  <thead>\n    <tr style=\"text-align: right;\">\n      <th></th>\n      <th>time_spent</th>\n      <th>count</th>\n    </tr>\n  </thead>\n  <tbody>\n    <tr>\n      <th>168</th>\n      <td>About 3 hours</td>\n      <td>1</td>\n    </tr>\n    <tr>\n      <th>169</th>\n      <td>roughly 4 hours</td>\n      <td>1</td>\n    </tr>\n    <tr>\n      <th>170</th>\n      <td>16</td>\n      <td>1</td>\n    </tr>\n    <tr>\n      <th>171</th>\n      <td>2-3 days (See on comments section)</td>\n      <td>1</td>\n    </tr>\n    <tr>\n      <th>172</th>\n      <td>about 1h a day</td>\n      <td>1</td>\n    </tr>\n    <tr>\n      <th>173</th>\n      <td>not really had much time last week, just check...</td>\n      <td>1</td>\n    </tr>\n    <tr>\n      <th>174</th>\n      <td>Came into this very late, so not minutes of pe...</td>\n      <td>1</td>\n    </tr>\n    <tr>\n      <th>175</th>\n      <td>Still need to watch and read! catching up this...</td>\n      <td>1</td>\n    </tr>\n    <tr>\n      <th>176</th>\n      <td>4.33</td>\n      <td>1</td>\n    </tr>\n    <tr>\n      <th>177</th>\n      <td>10hrs</td>\n      <td>1</td>\n    </tr>\n    <tr>\n      <th>178</th>\n      <td>0 (I've planned to do it today, but I've seen ...</td>\n      <td>1</td>\n    </tr>\n    <tr>\n      <th>179</th>\n      <td>~10hours (breaks in between)</td>\n      <td>1</td>\n    </tr>\n    <tr>\n      <th>180</th>\n      <td>1 an half hours since I did'nt know that other...</td>\n      <td>1</td>\n    </tr>\n    <tr>\n      <th>181</th>\n      <td>two hours per day</td>\n      <td>1</td>\n    </tr>\n    <tr>\n      <th>182</th>\n      <td>Approximately 5 hours</td>\n      <td>1</td>\n    </tr>\n    <tr>\n      <th>183</th>\n      <td>Approx. 3,5 hours</td>\n      <td>1</td>\n    </tr>\n    <tr>\n      <th>184</th>\n      <td>6-8</td>\n      <td>1</td>\n    </tr>\n    <tr>\n      <th>185</th>\n      <td>3 hour</td>\n      <td>1</td>\n    </tr>\n    <tr>\n      <th>186</th>\n      <td>220</td>\n      <td>1</td>\n    </tr>\n    <tr>\n      <th>187</th>\n      <td>4-5 hrs</td>\n      <td>1</td>\n    </tr>\n  </tbody>\n</table>\n</div>"
     },
     "execution_count": 31,
     "metadata": {},
     "output_type": "execute_result"
    }
   ],
   "source": [
    "lecture_count_df.tail(20)"
   ],
   "metadata": {
    "collapsed": false,
    "pycharm": {
     "name": "#%%\n"
    }
   }
  },
  {
   "cell_type": "markdown",
   "source": [
    "Observations:\n",
    "- 175 unique inputs\n",
    "- 3 is the most common answer\n",
    "- The top 9 responses can easily be converted to integers\n",
    "- The top 10 already has a data input containing words/text (2 hours)\n",
    "- The top 20 can be parsed after removing spaces and the text 'hours'\n",
    "\n",
    "Actions:\n",
    "- May or may not parse 'hours' text to validate data\n",
    "- Fields containing text that can't be parsed will be coerced into NaN"
   ],
   "metadata": {
    "collapsed": false,
    "pycharm": {
     "name": "#%% md\n"
    }
   }
  },
  {
   "cell_type": "markdown",
   "source": [
    "### Time Spent on Lectures\n",
    "\n",
    "Let's look at the time it takes students to study the lectures."
   ],
   "metadata": {
    "collapsed": false,
    "pycharm": {
     "name": "#%% md\n"
    }
   }
  },
  {
   "cell_type": "code",
   "execution_count": 32,
   "outputs": [
    {
     "data": {
      "text/plain": "                                      email  assignment  \\\n0  926b1fa33743bbdb5c73cf4622febdfdb6a11126  homework-1   \n1  465b1103bcddd7eb0ea3b2240e31f3aa22a313ff  homework-1   \n2  f653bb70051c62cab513ebb400171e7a0de6e1e5  homework-1   \n3  510c636f6e171521b4221e3954299ae982311123  homework-1   \n4  9e8bf7837142da13f8ae36c6330da328bc88373a  homework-1   \n\n                                       original_time  processed_time  \n0                                                  3             3.0  \n1                                                  1             1.0  \n2                                                  2             2.0  \n3                                                NaN             NaN  \n4  <1 (playspeed: ~1.8 & skipped many familiar se...             NaN  ",
      "text/html": "<div>\n<style scoped>\n    .dataframe tbody tr th:only-of-type {\n        vertical-align: middle;\n    }\n\n    .dataframe tbody tr th {\n        vertical-align: top;\n    }\n\n    .dataframe thead th {\n        text-align: right;\n    }\n</style>\n<table border=\"1\" class=\"dataframe\">\n  <thead>\n    <tr style=\"text-align: right;\">\n      <th></th>\n      <th>email</th>\n      <th>assignment</th>\n      <th>original_time</th>\n      <th>processed_time</th>\n    </tr>\n  </thead>\n  <tbody>\n    <tr>\n      <th>0</th>\n      <td>926b1fa33743bbdb5c73cf4622febdfdb6a11126</td>\n      <td>homework-1</td>\n      <td>3</td>\n      <td>3.0</td>\n    </tr>\n    <tr>\n      <th>1</th>\n      <td>465b1103bcddd7eb0ea3b2240e31f3aa22a313ff</td>\n      <td>homework-1</td>\n      <td>1</td>\n      <td>1.0</td>\n    </tr>\n    <tr>\n      <th>2</th>\n      <td>f653bb70051c62cab513ebb400171e7a0de6e1e5</td>\n      <td>homework-1</td>\n      <td>2</td>\n      <td>2.0</td>\n    </tr>\n    <tr>\n      <th>3</th>\n      <td>510c636f6e171521b4221e3954299ae982311123</td>\n      <td>homework-1</td>\n      <td>NaN</td>\n      <td>NaN</td>\n    </tr>\n    <tr>\n      <th>4</th>\n      <td>9e8bf7837142da13f8ae36c6330da328bc88373a</td>\n      <td>homework-1</td>\n      <td>&lt;1 (playspeed: ~1.8 &amp; skipped many familiar se...</td>\n      <td>NaN</td>\n    </tr>\n  </tbody>\n</table>\n</div>"
     },
     "execution_count": 32,
     "metadata": {},
     "output_type": "execute_result"
    }
   ],
   "source": [
    "lecture_time_df = pd.DataFrame()\n",
    "lecture_time_df['email'] = hwk_lct_df.email\n",
    "lecture_time_df['assignment'] = hwk_lct_df.what\n",
    "lecture_time_df['original_time'] = hwk_lct_df.time_lectures\n",
    "lecture_time_df['processed_time'] = pd.to_numeric(hwk_lct_df.time_lectures, errors='coerce')\n",
    "\n",
    "lecture_time_df.head()"
   ],
   "metadata": {
    "collapsed": false,
    "pycharm": {
     "name": "#%%\n"
    }
   }
  },
  {
   "cell_type": "code",
   "execution_count": 33,
   "outputs": [
    {
     "data": {
      "text/plain": "    hours  count\n0     3.0    212\n1     2.0    171\n2     4.0    154\n3     5.0    126\n4     6.0     86\n5     1.0     65\n6     8.0     64\n7    10.0     41\n8     7.0     22\n9    12.0     16\n10    2.5     12\n11    0.0     10\n12   15.0     10\n13    3.5     10\n14    1.5      9\n15   20.0      7\n16    9.0      6\n17   24.0      5\n18    0.2      4\n19   30.0      4",
      "text/html": "<div>\n<style scoped>\n    .dataframe tbody tr th:only-of-type {\n        vertical-align: middle;\n    }\n\n    .dataframe tbody tr th {\n        vertical-align: top;\n    }\n\n    .dataframe thead th {\n        text-align: right;\n    }\n</style>\n<table border=\"1\" class=\"dataframe\">\n  <thead>\n    <tr style=\"text-align: right;\">\n      <th></th>\n      <th>hours</th>\n      <th>count</th>\n    </tr>\n  </thead>\n  <tbody>\n    <tr>\n      <th>0</th>\n      <td>3.0</td>\n      <td>212</td>\n    </tr>\n    <tr>\n      <th>1</th>\n      <td>2.0</td>\n      <td>171</td>\n    </tr>\n    <tr>\n      <th>2</th>\n      <td>4.0</td>\n      <td>154</td>\n    </tr>\n    <tr>\n      <th>3</th>\n      <td>5.0</td>\n      <td>126</td>\n    </tr>\n    <tr>\n      <th>4</th>\n      <td>6.0</td>\n      <td>86</td>\n    </tr>\n    <tr>\n      <th>5</th>\n      <td>1.0</td>\n      <td>65</td>\n    </tr>\n    <tr>\n      <th>6</th>\n      <td>8.0</td>\n      <td>64</td>\n    </tr>\n    <tr>\n      <th>7</th>\n      <td>10.0</td>\n      <td>41</td>\n    </tr>\n    <tr>\n      <th>8</th>\n      <td>7.0</td>\n      <td>22</td>\n    </tr>\n    <tr>\n      <th>9</th>\n      <td>12.0</td>\n      <td>16</td>\n    </tr>\n    <tr>\n      <th>10</th>\n      <td>2.5</td>\n      <td>12</td>\n    </tr>\n    <tr>\n      <th>11</th>\n      <td>0.0</td>\n      <td>10</td>\n    </tr>\n    <tr>\n      <th>12</th>\n      <td>15.0</td>\n      <td>10</td>\n    </tr>\n    <tr>\n      <th>13</th>\n      <td>3.5</td>\n      <td>10</td>\n    </tr>\n    <tr>\n      <th>14</th>\n      <td>1.5</td>\n      <td>9</td>\n    </tr>\n    <tr>\n      <th>15</th>\n      <td>20.0</td>\n      <td>7</td>\n    </tr>\n    <tr>\n      <th>16</th>\n      <td>9.0</td>\n      <td>6</td>\n    </tr>\n    <tr>\n      <th>17</th>\n      <td>24.0</td>\n      <td>5</td>\n    </tr>\n    <tr>\n      <th>18</th>\n      <td>0.2</td>\n      <td>4</td>\n    </tr>\n    <tr>\n      <th>19</th>\n      <td>30.0</td>\n      <td>4</td>\n    </tr>\n  </tbody>\n</table>\n</div>"
     },
     "execution_count": 33,
     "metadata": {},
     "output_type": "execute_result"
    }
   ],
   "source": [
    "clean_lecture_count_df = lecture_time_df.processed_time.value_counts().reset_index()\\\n",
    "    .rename(columns={'index':'hours', 'processed_time':'count'})\n",
    "\n",
    "clean_lecture_count_df.head(20)"
   ],
   "metadata": {
    "collapsed": false,
    "pycharm": {
     "name": "#%%\n"
    }
   }
  },
  {
   "cell_type": "code",
   "execution_count": 34,
   "outputs": [
    {
     "data": {
      "text/plain": "(38, 2)"
     },
     "execution_count": 34,
     "metadata": {},
     "output_type": "execute_result"
    }
   ],
   "source": [
    "clean_lecture_count_df.shape"
   ],
   "metadata": {
    "collapsed": false,
    "pycharm": {
     "name": "#%%\n"
    }
   }
  },
  {
   "cell_type": "code",
   "execution_count": 35,
   "outputs": [
    {
     "data": {
      "text/plain": "hours     649.48\ncount    1059.00\ndtype: float64"
     },
     "execution_count": 35,
     "metadata": {},
     "output_type": "execute_result"
    }
   ],
   "source": [
    "clean_lecture_count_df.sum()"
   ],
   "metadata": {
    "collapsed": false,
    "pycharm": {
     "name": "#%%\n"
    }
   }
  },
  {
   "cell_type": "markdown",
   "source": [
    "Observations:\n",
    "- only 38 unique inputs now\n",
    "- still have 1059 data points\n",
    "\n",
    "Actions:\n",
    "- Let us try plotting them"
   ],
   "metadata": {
    "collapsed": false,
    "pycharm": {
     "name": "#%% md\n"
    }
   }
  },
  {
   "cell_type": "markdown",
   "source": [
    "#### Look at processed data"
   ],
   "metadata": {
    "collapsed": false,
    "pycharm": {
     "name": "#%% md\n"
    }
   }
  },
  {
   "cell_type": "code",
   "execution_count": 36,
   "outputs": [
    {
     "data": {
      "text/plain": "count    1059.000000\nmean        5.064051\nstd         8.413630\nmin         0.000000\n25%         2.000000\n50%         4.000000\n75%         6.000000\nmax       220.000000\nName: processed_time, dtype: float64"
     },
     "execution_count": 36,
     "metadata": {},
     "output_type": "execute_result"
    }
   ],
   "source": [
    "lecture_time_df.processed_time.describe()"
   ],
   "metadata": {
    "collapsed": false,
    "pycharm": {
     "name": "#%%\n"
    }
   }
  },
  {
   "cell_type": "code",
   "execution_count": 37,
   "outputs": [
    {
     "data": {
      "text/plain": "array([[<AxesSubplot:title={'center':'processed_time'}>]], dtype=object)"
     },
     "execution_count": 37,
     "metadata": {},
     "output_type": "execute_result"
    },
    {
     "data": {
      "text/plain": "<Figure size 640x480 with 1 Axes>",
      "image/png": "[encoded data removed]"
     },
     "metadata": {},
     "output_type": "display_data"
    }
   ],
   "source": [
    "lecture_time_df.hist(column='processed_time', bins=100)"
   ],
   "metadata": {
    "collapsed": false,
    "pycharm": {
     "name": "#%%\n"
    }
   }
  },
  {
   "cell_type": "markdown",
   "source": [
    "Observations:\n",
    "- The max (220) seems like way too big of an outlier.\n",
    "\n",
    "Actions:\n",
    "- Trim the top end data to just 4 standard deviations."
   ],
   "metadata": {
    "collapsed": false,
    "pycharm": {
     "name": "#%% md\n"
    }
   }
  },
  {
   "cell_type": "code",
   "execution_count": 38,
   "outputs": [
    {
     "data": {
      "text/plain": "(5.064050991501415, 8.413629870657621)"
     },
     "execution_count": 38,
     "metadata": {},
     "output_type": "execute_result"
    }
   ],
   "source": [
    "lecture_time_s = lecture_time_df.processed_time.rename('time')\n",
    "mean = lecture_time_s.mean()\n",
    "std = lecture_time_s.std()\n",
    "\n",
    "mean, std"
   ],
   "metadata": {
    "collapsed": false,
    "pycharm": {
     "name": "#%%\n"
    }
   }
  },
  {
   "cell_type": "code",
   "execution_count": 39,
   "outputs": [
    {
     "data": {
      "text/plain": "count    1054.000000\nmean        4.651641\nstd         3.882214\nmin         0.000000\n25%         2.000000\n50%         4.000000\n75%         6.000000\nmax        36.000000\nName: time, dtype: float64"
     },
     "execution_count": 39,
     "metadata": {},
     "output_type": "execute_result"
    }
   ],
   "source": [
    "lecture_time_4_std = lecture_time_s[(lecture_time_s - mean) <= 4*std]\n",
    "lecture_time_4_std.describe()"
   ],
   "metadata": {
    "collapsed": false,
    "pycharm": {
     "name": "#%%\n"
    }
   }
  },
  {
   "cell_type": "code",
   "execution_count": 40,
   "outputs": [
    {
     "data": {
      "text/plain": "<AxesSubplot:>"
     },
     "execution_count": 40,
     "metadata": {},
     "output_type": "execute_result"
    },
    {
     "data": {
      "text/plain": "<Figure size 640x480 with 1 Axes>",
      "image/png": "[encoded data removed]"
     },
     "metadata": {},
     "output_type": "display_data"
    }
   ],
   "source": [
    "lecture_time_4_std.plot.box()"
   ],
   "metadata": {
    "collapsed": false,
    "pycharm": {
     "name": "#%%\n"
    }
   }
  },
  {
   "cell_type": "code",
   "execution_count": 41,
   "outputs": [
    {
     "data": {
      "text/plain": "(4.651641366223909, 8.533855058604948, 12.416068750985986, 16.298282443367025)"
     },
     "execution_count": 41,
     "metadata": {},
     "output_type": "execute_result"
    }
   ],
   "source": [
    "mean = lecture_time_4_std.mean()\n",
    "std = lecture_time_4_std.std()\n",
    "\n",
    "(mean, mean+std, mean+2*std, mean+3*std)"
   ],
   "metadata": {
    "collapsed": false,
    "pycharm": {
     "name": "#%%\n"
    }
   }
  },
  {
   "cell_type": "markdown",
   "source": [
    "Observations:\n",
    "- Users spent an average of 4.6 hours on the lectures\n",
    "- There is a large deviation in Users time spent on lectures ( almost 4 hours)\n",
    "- our max is now 36 hours (more reasonable)\n",
    "- 50% - <= 4.6 hours\n",
    "- 84% - <= 8.5 hours\n",
    "- 97.7% - <= 12.4 hours\n",
    "- 99.8% - <= 16.3 hours"
   ],
   "metadata": {
    "collapsed": false,
    "pycharm": {
     "name": "#%% md\n"
    }
   }
  },
  {
   "cell_type": "markdown",
   "source": [
    "### Homework\n"
   ],
   "metadata": {
    "collapsed": false,
    "pycharm": {
     "name": "#%% md\n"
    }
   }
  },
  {
   "cell_type": "code",
   "execution_count": 42,
   "outputs": [],
   "source": [
    "homework_count_df = hwk_lct_df['time_homework'].value_counts().reset_index()\\\n",
    "    .rename(columns={'index':'time_spent', 'time_homework':'count'})"
   ],
   "metadata": {
    "collapsed": false,
    "pycharm": {
     "name": "#%%\n"
    }
   }
  },
  {
   "cell_type": "code",
   "execution_count": 43,
   "outputs": [
    {
     "data": {
      "text/plain": "(165, 2)"
     },
     "execution_count": 43,
     "metadata": {},
     "output_type": "execute_result"
    }
   ],
   "source": [
    "homework_count_df.shape"
   ],
   "metadata": {
    "collapsed": false,
    "pycharm": {
     "name": "#%%\n"
    }
   }
  },
  {
   "cell_type": "code",
   "execution_count": 44,
   "outputs": [
    {
     "data": {
      "text/plain": "   time_spent  count\n0           2    240\n1           3    201\n2           1    190\n3           4    115\n4           5     78\n5         1.5     50\n6           6     42\n7         0.5     29\n8     2 hours     29\n9           8     23\n10     1 hour     23\n11        2.5     21\n12          7     17\n13         10     17\n14    3 hours     11\n15         12      9\n16         20      5\n17        5-6      5\n18       0.75      4\n19    4 hours      4",
      "text/html": "<div>\n<style scoped>\n    .dataframe tbody tr th:only-of-type {\n        vertical-align: middle;\n    }\n\n    .dataframe tbody tr th {\n        vertical-align: top;\n    }\n\n    .dataframe thead th {\n        text-align: right;\n    }\n</style>\n<table border=\"1\" class=\"dataframe\">\n  <thead>\n    <tr style=\"text-align: right;\">\n      <th></th>\n      <th>time_spent</th>\n      <th>count</th>\n    </tr>\n  </thead>\n  <tbody>\n    <tr>\n      <th>0</th>\n      <td>2</td>\n      <td>240</td>\n    </tr>\n    <tr>\n      <th>1</th>\n      <td>3</td>\n      <td>201</td>\n    </tr>\n    <tr>\n      <th>2</th>\n      <td>1</td>\n      <td>190</td>\n    </tr>\n    <tr>\n      <th>3</th>\n      <td>4</td>\n      <td>115</td>\n    </tr>\n    <tr>\n      <th>4</th>\n      <td>5</td>\n      <td>78</td>\n    </tr>\n    <tr>\n      <th>5</th>\n      <td>1.5</td>\n      <td>50</td>\n    </tr>\n    <tr>\n      <th>6</th>\n      <td>6</td>\n      <td>42</td>\n    </tr>\n    <tr>\n      <th>7</th>\n      <td>0.5</td>\n      <td>29</td>\n    </tr>\n    <tr>\n      <th>8</th>\n      <td>2 hours</td>\n      <td>29</td>\n    </tr>\n    <tr>\n      <th>9</th>\n      <td>8</td>\n      <td>23</td>\n    </tr>\n    <tr>\n      <th>10</th>\n      <td>1 hour</td>\n      <td>23</td>\n    </tr>\n    <tr>\n      <th>11</th>\n      <td>2.5</td>\n      <td>21</td>\n    </tr>\n    <tr>\n      <th>12</th>\n      <td>7</td>\n      <td>17</td>\n    </tr>\n    <tr>\n      <th>13</th>\n      <td>10</td>\n      <td>17</td>\n    </tr>\n    <tr>\n      <th>14</th>\n      <td>3 hours</td>\n      <td>11</td>\n    </tr>\n    <tr>\n      <th>15</th>\n      <td>12</td>\n      <td>9</td>\n    </tr>\n    <tr>\n      <th>16</th>\n      <td>20</td>\n      <td>5</td>\n    </tr>\n    <tr>\n      <th>17</th>\n      <td>5-6</td>\n      <td>5</td>\n    </tr>\n    <tr>\n      <th>18</th>\n      <td>0.75</td>\n      <td>4</td>\n    </tr>\n    <tr>\n      <th>19</th>\n      <td>4 hours</td>\n      <td>4</td>\n    </tr>\n  </tbody>\n</table>\n</div>"
     },
     "execution_count": 44,
     "metadata": {},
     "output_type": "execute_result"
    }
   ],
   "source": [
    "homework_count_df.head(20)"
   ],
   "metadata": {
    "collapsed": false,
    "pycharm": {
     "name": "#%%\n"
    }
   }
  },
  {
   "cell_type": "code",
   "execution_count": 45,
   "outputs": [
    {
     "data": {
      "text/plain": "          time_spent  count\n160        3-4 hours      1\n161        1hr30mins      1\n162  Approx. 2 hours      1\n163         2 hours       1\n164          45 mins      1",
      "text/html": "<div>\n<style scoped>\n    .dataframe tbody tr th:only-of-type {\n        vertical-align: middle;\n    }\n\n    .dataframe tbody tr th {\n        vertical-align: top;\n    }\n\n    .dataframe thead th {\n        text-align: right;\n    }\n</style>\n<table border=\"1\" class=\"dataframe\">\n  <thead>\n    <tr style=\"text-align: right;\">\n      <th></th>\n      <th>time_spent</th>\n      <th>count</th>\n    </tr>\n  </thead>\n  <tbody>\n    <tr>\n      <th>160</th>\n      <td>3-4 hours</td>\n      <td>1</td>\n    </tr>\n    <tr>\n      <th>161</th>\n      <td>1hr30mins</td>\n      <td>1</td>\n    </tr>\n    <tr>\n      <th>162</th>\n      <td>Approx. 2 hours</td>\n      <td>1</td>\n    </tr>\n    <tr>\n      <th>163</th>\n      <td>2 hours</td>\n      <td>1</td>\n    </tr>\n    <tr>\n      <th>164</th>\n      <td>45 mins</td>\n      <td>1</td>\n    </tr>\n  </tbody>\n</table>\n</div>"
     },
     "execution_count": 45,
     "metadata": {},
     "output_type": "execute_result"
    }
   ],
   "source": [
    "homework_count_df.tail()"
   ],
   "metadata": {
    "collapsed": false,
    "pycharm": {
     "name": "#%%\n"
    }
   }
  },
  {
   "cell_type": "markdown",
   "source": [
    "Observations:\n",
    "- 165 unique inputs\n",
    "- the count drops faster in the top 20\n",
    "- Most of the top 20 can be parsed without dealing with text"
   ],
   "metadata": {
    "collapsed": false,
    "pycharm": {
     "name": "#%% md\n"
    }
   }
  },
  {
   "cell_type": "markdown",
   "source": [
    "### Time Spent on Homework\n",
    "\n",
    "Let's look at the time students spent completing homework assignments."
   ],
   "metadata": {
    "collapsed": false,
    "pycharm": {
     "name": "#%% md\n"
    }
   }
  },
  {
   "cell_type": "code",
   "execution_count": 46,
   "outputs": [
    {
     "data": {
      "text/plain": "                                      email  assignment original_time  \\\n0  926b1fa33743bbdb5c73cf4622febdfdb6a11126  homework-1             1   \n1  465b1103bcddd7eb0ea3b2240e31f3aa22a313ff  homework-1           0.5   \n2  f653bb70051c62cab513ebb400171e7a0de6e1e5  homework-1             1   \n3  510c636f6e171521b4221e3954299ae982311123  homework-1             1   \n4  9e8bf7837142da13f8ae36c6330da328bc88373a  homework-1          <0.2   \n\n   processed_time  \n0             1.0  \n1             0.5  \n2             1.0  \n3             1.0  \n4             NaN  ",
      "text/html": "<div>\n<style scoped>\n    .dataframe tbody tr th:only-of-type {\n        vertical-align: middle;\n    }\n\n    .dataframe tbody tr th {\n        vertical-align: top;\n    }\n\n    .dataframe thead th {\n        text-align: right;\n    }\n</style>\n<table border=\"1\" class=\"dataframe\">\n  <thead>\n    <tr style=\"text-align: right;\">\n      <th></th>\n      <th>email</th>\n      <th>assignment</th>\n      <th>original_time</th>\n      <th>processed_time</th>\n    </tr>\n  </thead>\n  <tbody>\n    <tr>\n      <th>0</th>\n      <td>926b1fa33743bbdb5c73cf4622febdfdb6a11126</td>\n      <td>homework-1</td>\n      <td>1</td>\n      <td>1.0</td>\n    </tr>\n    <tr>\n      <th>1</th>\n      <td>465b1103bcddd7eb0ea3b2240e31f3aa22a313ff</td>\n      <td>homework-1</td>\n      <td>0.5</td>\n      <td>0.5</td>\n    </tr>\n    <tr>\n      <th>2</th>\n      <td>f653bb70051c62cab513ebb400171e7a0de6e1e5</td>\n      <td>homework-1</td>\n      <td>1</td>\n      <td>1.0</td>\n    </tr>\n    <tr>\n      <th>3</th>\n      <td>510c636f6e171521b4221e3954299ae982311123</td>\n      <td>homework-1</td>\n      <td>1</td>\n      <td>1.0</td>\n    </tr>\n    <tr>\n      <th>4</th>\n      <td>9e8bf7837142da13f8ae36c6330da328bc88373a</td>\n      <td>homework-1</td>\n      <td>&lt;0.2</td>\n      <td>NaN</td>\n    </tr>\n  </tbody>\n</table>\n</div>"
     },
     "execution_count": 46,
     "metadata": {},
     "output_type": "execute_result"
    }
   ],
   "source": [
    "homework_time_df = pd.DataFrame()\n",
    "homework_time_df['email'] = hwk_lct_df.email\n",
    "homework_time_df['assignment'] = hwk_lct_df.what\n",
    "homework_time_df['original_time'] = hwk_lct_df.time_homework\n",
    "homework_time_df['processed_time'] = pd.to_numeric(hwk_lct_df.time_homework, errors='coerce')\n",
    "\n",
    "homework_time_df.head()"
   ],
   "metadata": {
    "collapsed": false,
    "pycharm": {
     "name": "#%%\n"
    }
   }
  },
  {
   "cell_type": "code",
   "execution_count": 47,
   "outputs": [
    {
     "data": {
      "text/plain": "    hours  count\n0    2.00    240\n1    3.00    201\n2    1.00    190\n3    4.00    115\n4    5.00     78\n5    1.50     50\n6    6.00     42\n7    0.50     29\n8    8.00     23\n9    2.50     21\n10   7.00     17\n11  10.00     17\n12  12.00      9\n13  20.00      5\n14   3.50      4\n15  16.00      4\n16   0.75      4\n17  15.00      3\n18   9.00      3\n19   0.25      2\n20   1.80      1\n21  22.00      1\n22  32.00      1\n23  26.00      1\n24   0.70      1\n25   5.50      1\n26  17.00      1\n27   4.50      1\n28   0.20      1\n29  45.00      1\n30  48.00      1\n31   1.25      1\n32   0.00      1\n33   1.20      1\n34   1.15      1\n35   0.60      1\n36   0.30      1\n37   0.33      1\n38  14.00      1",
      "text/html": "<div>\n<style scoped>\n    .dataframe tbody tr th:only-of-type {\n        vertical-align: middle;\n    }\n\n    .dataframe tbody tr th {\n        vertical-align: top;\n    }\n\n    .dataframe thead th {\n        text-align: right;\n    }\n</style>\n<table border=\"1\" class=\"dataframe\">\n  <thead>\n    <tr style=\"text-align: right;\">\n      <th></th>\n      <th>hours</th>\n      <th>count</th>\n    </tr>\n  </thead>\n  <tbody>\n    <tr>\n      <th>0</th>\n      <td>2.00</td>\n      <td>240</td>\n    </tr>\n    <tr>\n      <th>1</th>\n      <td>3.00</td>\n      <td>201</td>\n    </tr>\n    <tr>\n      <th>2</th>\n      <td>1.00</td>\n      <td>190</td>\n    </tr>\n    <tr>\n      <th>3</th>\n      <td>4.00</td>\n      <td>115</td>\n    </tr>\n    <tr>\n      <th>4</th>\n      <td>5.00</td>\n      <td>78</td>\n    </tr>\n    <tr>\n      <th>5</th>\n      <td>1.50</td>\n      <td>50</td>\n    </tr>\n    <tr>\n      <th>6</th>\n      <td>6.00</td>\n      <td>42</td>\n    </tr>\n    <tr>\n      <th>7</th>\n      <td>0.50</td>\n      <td>29</td>\n    </tr>\n    <tr>\n      <th>8</th>\n      <td>8.00</td>\n      <td>23</td>\n    </tr>\n    <tr>\n      <th>9</th>\n      <td>2.50</td>\n      <td>21</td>\n    </tr>\n    <tr>\n      <th>10</th>\n      <td>7.00</td>\n      <td>17</td>\n    </tr>\n    <tr>\n      <th>11</th>\n      <td>10.00</td>\n      <td>17</td>\n    </tr>\n    <tr>\n      <th>12</th>\n      <td>12.00</td>\n      <td>9</td>\n    </tr>\n    <tr>\n      <th>13</th>\n      <td>20.00</td>\n      <td>5</td>\n    </tr>\n    <tr>\n      <th>14</th>\n      <td>3.50</td>\n      <td>4</td>\n    </tr>\n    <tr>\n      <th>15</th>\n      <td>16.00</td>\n      <td>4</td>\n    </tr>\n    <tr>\n      <th>16</th>\n      <td>0.75</td>\n      <td>4</td>\n    </tr>\n    <tr>\n      <th>17</th>\n      <td>15.00</td>\n      <td>3</td>\n    </tr>\n    <tr>\n      <th>18</th>\n      <td>9.00</td>\n      <td>3</td>\n    </tr>\n    <tr>\n      <th>19</th>\n      <td>0.25</td>\n      <td>2</td>\n    </tr>\n    <tr>\n      <th>20</th>\n      <td>1.80</td>\n      <td>1</td>\n    </tr>\n    <tr>\n      <th>21</th>\n      <td>22.00</td>\n      <td>1</td>\n    </tr>\n    <tr>\n      <th>22</th>\n      <td>32.00</td>\n      <td>1</td>\n    </tr>\n    <tr>\n      <th>23</th>\n      <td>26.00</td>\n      <td>1</td>\n    </tr>\n    <tr>\n      <th>24</th>\n      <td>0.70</td>\n      <td>1</td>\n    </tr>\n    <tr>\n      <th>25</th>\n      <td>5.50</td>\n      <td>1</td>\n    </tr>\n    <tr>\n      <th>26</th>\n      <td>17.00</td>\n      <td>1</td>\n    </tr>\n    <tr>\n      <th>27</th>\n      <td>4.50</td>\n      <td>1</td>\n    </tr>\n    <tr>\n      <th>28</th>\n      <td>0.20</td>\n      <td>1</td>\n    </tr>\n    <tr>\n      <th>29</th>\n      <td>45.00</td>\n      <td>1</td>\n    </tr>\n    <tr>\n      <th>30</th>\n      <td>48.00</td>\n      <td>1</td>\n    </tr>\n    <tr>\n      <th>31</th>\n      <td>1.25</td>\n      <td>1</td>\n    </tr>\n    <tr>\n      <th>32</th>\n      <td>0.00</td>\n      <td>1</td>\n    </tr>\n    <tr>\n      <th>33</th>\n      <td>1.20</td>\n      <td>1</td>\n    </tr>\n    <tr>\n      <th>34</th>\n      <td>1.15</td>\n      <td>1</td>\n    </tr>\n    <tr>\n      <th>35</th>\n      <td>0.60</td>\n      <td>1</td>\n    </tr>\n    <tr>\n      <th>36</th>\n      <td>0.30</td>\n      <td>1</td>\n    </tr>\n    <tr>\n      <th>37</th>\n      <td>0.33</td>\n      <td>1</td>\n    </tr>\n    <tr>\n      <th>38</th>\n      <td>14.00</td>\n      <td>1</td>\n    </tr>\n  </tbody>\n</table>\n</div>"
     },
     "execution_count": 47,
     "metadata": {},
     "output_type": "execute_result"
    }
   ],
   "source": [
    "clean_homework_count_df = homework_time_df.processed_time.value_counts().reset_index()\\\n",
    "    .rename(columns={'index':'hours', 'processed_time':'count'})\n",
    "\n",
    "clean_homework_count_df"
   ],
   "metadata": {
    "collapsed": false,
    "pycharm": {
     "name": "#%%\n"
    }
   }
  },
  {
   "cell_type": "code",
   "execution_count": 48,
   "outputs": [
    {
     "data": {
      "text/plain": "(39, 2)"
     },
     "execution_count": 48,
     "metadata": {},
     "output_type": "execute_result"
    }
   ],
   "source": [
    "clean_homework_count_df.shape"
   ],
   "metadata": {
    "collapsed": false,
    "pycharm": {
     "name": "#%%\n"
    }
   }
  },
  {
   "cell_type": "code",
   "execution_count": 49,
   "outputs": [
    {
     "data": {
      "text/plain": "hours     348.53\ncount    1076.00\ndtype: float64"
     },
     "execution_count": 49,
     "metadata": {},
     "output_type": "execute_result"
    }
   ],
   "source": [
    "clean_homework_count_df.sum()"
   ],
   "metadata": {
    "collapsed": false,
    "pycharm": {
     "name": "#%%\n"
    }
   }
  },
  {
   "cell_type": "markdown",
   "source": [
    "Observations:\n",
    "- 39 unique inputs\n",
    "- 1079 data points"
   ],
   "metadata": {
    "collapsed": false,
    "pycharm": {
     "name": "#%% md\n"
    }
   }
  },
  {
   "cell_type": "markdown",
   "source": [
    "#### Look at processed homework time data"
   ],
   "metadata": {
    "collapsed": false,
    "pycharm": {
     "name": "#%% md\n"
    }
   }
  },
  {
   "cell_type": "code",
   "execution_count": 50,
   "outputs": [
    {
     "data": {
      "text/plain": "count    1076.00000\nmean        3.32066\nstd         3.47733\nmin         0.00000\n25%         1.50000\n50%         2.50000\n75%         4.00000\nmax        48.00000\nName: processed_time, dtype: float64"
     },
     "execution_count": 50,
     "metadata": {},
     "output_type": "execute_result"
    }
   ],
   "source": [
    "homework_time_df.processed_time.describe()"
   ],
   "metadata": {
    "collapsed": false,
    "pycharm": {
     "name": "#%%\n"
    }
   }
  },
  {
   "cell_type": "code",
   "execution_count": 51,
   "outputs": [
    {
     "data": {
      "text/plain": "array([[<AxesSubplot:title={'center':'processed_time'}>]], dtype=object)"
     },
     "execution_count": 51,
     "metadata": {},
     "output_type": "execute_result"
    },
    {
     "data": {
      "text/plain": "<Figure size 640x480 with 1 Axes>",
      "image/png": "[encoded data removed]"
     },
     "metadata": {},
     "output_type": "display_data"
    }
   ],
   "source": [
    "homework_time_df.hist(column='processed_time')"
   ],
   "metadata": {
    "collapsed": false,
    "pycharm": {
     "name": "#%%\n"
    }
   }
  },
  {
   "cell_type": "markdown",
   "source": [
    "Observations:\n",
    "- data already looks a lot better than the lecture time data\n",
    "- Seems like students spent less time on homeworks than lectures\n",
    "\n",
    "Actions:\n",
    "- trim to 4 std, for consistency"
   ],
   "metadata": {
    "collapsed": false,
    "pycharm": {
     "name": "#%% md\n"
    }
   }
  },
  {
   "cell_type": "code",
   "execution_count": 52,
   "outputs": [
    {
     "data": {
      "text/plain": "(3.320659851301115, 3.4773301214428174)"
     },
     "execution_count": 52,
     "metadata": {},
     "output_type": "execute_result"
    }
   ],
   "source": [
    "homework_time_s = homework_time_df.processed_time.rename('time')\n",
    "mean = homework_time_s.mean()\n",
    "std = homework_time_s.std()\n",
    "\n",
    "mean, std"
   ],
   "metadata": {
    "collapsed": false,
    "pycharm": {
     "name": "#%%\n"
    }
   }
  },
  {
   "cell_type": "code",
   "execution_count": 53,
   "outputs": [
    {
     "data": {
      "text/plain": "count    1066.000000\nmean        3.095713\nstd         2.400036\nmin         0.000000\n25%         1.500000\n50%         2.500000\n75%         4.000000\nmax        17.000000\nName: time, dtype: float64"
     },
     "execution_count": 53,
     "metadata": {},
     "output_type": "execute_result"
    }
   ],
   "source": [
    "homework_time_s = homework_time_s[(homework_time_s - mean) <= 4*std]\n",
    "\n",
    "homework_time_s.describe()"
   ],
   "metadata": {
    "collapsed": false,
    "pycharm": {
     "name": "#%%\n"
    }
   }
  },
  {
   "cell_type": "code",
   "execution_count": 54,
   "outputs": [
    {
     "data": {
      "text/plain": "<AxesSubplot:>"
     },
     "execution_count": 54,
     "metadata": {},
     "output_type": "execute_result"
    },
    {
     "data": {
      "text/plain": "<Figure size 640x480 with 1 Axes>",
      "image/png": "[encoded data removed]"
     },
     "metadata": {},
     "output_type": "display_data"
    }
   ],
   "source": [
    "homework_time_s.plot.box()"
   ],
   "metadata": {
    "collapsed": false,
    "pycharm": {
     "name": "#%%\n"
    }
   }
  },
  {
   "cell_type": "code",
   "execution_count": 55,
   "outputs": [
    {
     "data": {
      "text/plain": "(3.095712945590994, 5.495748803727154, 7.895784661863313, 10.295820519999474)"
     },
     "execution_count": 55,
     "metadata": {},
     "output_type": "execute_result"
    }
   ],
   "source": [
    "mean = homework_time_s.mean()\n",
    "std = homework_time_s.std()\n",
    "\n",
    "mean, mean+std, mean+2*std, mean+3*std"
   ],
   "metadata": {
    "collapsed": false,
    "pycharm": {
     "name": "#%%\n"
    }
   }
  },
  {
   "cell_type": "markdown",
   "source": [
    "Observations:\n",
    "- Users spent an average of 3.1 hours on the homework\n",
    "- The deviation is still large (2.5 hours) relative to the mean\n",
    "- max is 17 hours\n",
    "- 50% - <= 3.1 hours\n",
    "- 84% - <= 5.5 hours\n",
    "- 97.7% - <= 7.9 hours\n",
    "- 99.8% - <= 10.3 hours\n",
    "\n",
    "Students spent less time on homework than they did on lectures."
   ],
   "metadata": {
    "collapsed": false,
    "pycharm": {
     "name": "#%% md\n"
    }
   }
  },
  {
   "cell_type": "markdown",
   "source": [
    "## Conclusions\n",
    "\n",
    "Expect to take 7.7+ hours on lectures and homework each week."
   ],
   "metadata": {
    "collapsed": false,
    "pycharm": {
     "name": "#%% md\n"
    }
   }
  },
  {
   "cell_type": "markdown",
   "source": [
    "| percentile (%) | lecture time (h) | homework time (h) | total time (h) |\n",
    "|:--------------:|:----------------:|:-----------------:|:--------------:|\n",
    "|       50       |       4.6        |        3.1        |      7.7       |\n",
    "|       84       |       8.5        |        5.5        |       14       |\n",
    "|      97.7      |       12.4       |        7.9        |      20.3      |\n",
    "|      99.8      |       16.3       |       10.3        |      26.6      |\n"
   ],
   "metadata": {
    "collapsed": false,
    "pycharm": {
     "name": "#%% md\n"
    }
   }
  }
 ],
 "metadata": {
  "kernelspec": {
   "display_name": "Python 3",
   "language": "python",
   "name": "python3"
  },
  "language_info": {
   "codemirror_mode": {
    "name": "ipython",
    "version": 2
   },
   "file_extension": ".py",
   "mimetype": "text/x-python",
   "name": "python",
   "nbconvert_exporter": "python",
   "pygments_lexer": "ipython2",
   "version": "2.7.6"
  }
 },
 "nbformat": 4,
 "nbformat_minor": 0
}